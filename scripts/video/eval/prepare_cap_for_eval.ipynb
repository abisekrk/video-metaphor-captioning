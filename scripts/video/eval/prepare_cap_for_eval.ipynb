{
 "cells": [
  {
   "cell_type": "code",
   "execution_count": 1,
   "metadata": {},
   "outputs": [],
   "source": [
    "import numpy as np\n",
    "import pandas as pd\n",
    "import json\n",
    "from tqdm import tqdm\n",
    "import os"
   ]
  },
  {
   "cell_type": "code",
   "execution_count": 2,
   "metadata": {},
   "outputs": [
    {
     "name": "stdout",
     "output_type": "stream",
     "text": [
      "750\n"
     ]
    }
   ],
   "source": [
    "file = open(\"/research/video_metaphor/LLaVA/results/llava13-b/vmcd_ispy/24f_4parts/5_ep/answers_t_0_2_test.jsonl\", \"r\")\n",
    "questions = [json.loads(q) for q in file]\n",
    "print(len(questions))"
   ]
  },
  {
   "cell_type": "code",
   "execution_count": 13,
   "metadata": {},
   "outputs": [],
   "source": [
    "true_captions = [ q[\"true_caption\"] for q in questions]\n",
    "pred_captions = [ q[\"text\"].split(\"\\n\")[0] for q in questions]\n",
    "video_ids = [ q[\"video_id\"] for q in questions]"
   ]
  },
  {
   "cell_type": "code",
   "execution_count": 14,
   "metadata": {},
   "outputs": [
    {
     "data": {
      "text/html": [
       "<div>\n",
       "<style scoped>\n",
       "    .dataframe tbody tr th:only-of-type {\n",
       "        vertical-align: middle;\n",
       "    }\n",
       "\n",
       "    .dataframe tbody tr th {\n",
       "        vertical-align: top;\n",
       "    }\n",
       "\n",
       "    .dataframe thead th {\n",
       "        text-align: right;\n",
       "    }\n",
       "</style>\n",
       "<table border=\"1\" class=\"dataframe\">\n",
       "  <thead>\n",
       "    <tr style=\"text-align: right;\">\n",
       "      <th></th>\n",
       "      <th>video_id</th>\n",
       "      <th>true_caption</th>\n",
       "      <th>pred_captions</th>\n",
       "      <th>reference_captions</th>\n",
       "    </tr>\n",
       "  </thead>\n",
       "  <tbody>\n",
       "    <tr>\n",
       "      <th>0</th>\n",
       "      <td>jmNrvlQ73pU</td>\n",
       "      <td>the burger is as comforting as relationship</td>\n",
       "      <td>the toys are as cute as the girl.</td>\n",
       "      <td>[the burger is as comforting as relationship, ...</td>\n",
       "    </tr>\n",
       "    <tr>\n",
       "      <th>1</th>\n",
       "      <td>jmNrvlQ73pU</td>\n",
       "      <td>a burger is as much a source of satisfaction a...</td>\n",
       "      <td>the toy is as cute as the girl.</td>\n",
       "      <td>[the burger is as comforting as relationship, ...</td>\n",
       "    </tr>\n",
       "    <tr>\n",
       "      <th>2</th>\n",
       "      <td>jmNrvlQ73pU</td>\n",
       "      <td>the burger is as a bond as kids relationship</td>\n",
       "      <td>the chocolate is as sweet as the relationship ...</td>\n",
       "      <td>[the burger is as comforting as relationship, ...</td>\n",
       "    </tr>\n",
       "    <tr>\n",
       "      <th>3</th>\n",
       "      <td>D93S3UVU8pk</td>\n",
       "      <td>the game is as fun as the cartoon</td>\n",
       "      <td>the drink is as cool as a polar bear.</td>\n",
       "      <td>[the game is as fun as the cartoon, the game i...</td>\n",
       "    </tr>\n",
       "    <tr>\n",
       "      <th>4</th>\n",
       "      <td>D93S3UVU8pk</td>\n",
       "      <td>the game is as interesting as a cartoon.</td>\n",
       "      <td>the game is as exciting as a superhero.</td>\n",
       "      <td>[the game is as fun as the cartoon, the game i...</td>\n",
       "    </tr>\n",
       "  </tbody>\n",
       "</table>\n",
       "</div>"
      ],
      "text/plain": [
       "      video_id                                       true_caption  \\\n",
       "0  jmNrvlQ73pU        the burger is as comforting as relationship   \n",
       "1  jmNrvlQ73pU  a burger is as much a source of satisfaction a...   \n",
       "2  jmNrvlQ73pU       the burger is as a bond as kids relationship   \n",
       "3  D93S3UVU8pk                  the game is as fun as the cartoon   \n",
       "4  D93S3UVU8pk           the game is as interesting as a cartoon.   \n",
       "\n",
       "                                       pred_captions  \\\n",
       "0                  the toys are as cute as the girl.   \n",
       "1                    the toy is as cute as the girl.   \n",
       "2  the chocolate is as sweet as the relationship ...   \n",
       "3              the drink is as cool as a polar bear.   \n",
       "4            the game is as exciting as a superhero.   \n",
       "\n",
       "                                  reference_captions  \n",
       "0  [the burger is as comforting as relationship, ...  \n",
       "1  [the burger is as comforting as relationship, ...  \n",
       "2  [the burger is as comforting as relationship, ...  \n",
       "3  [the game is as fun as the cartoon, the game i...  \n",
       "4  [the game is as fun as the cartoon, the game i...  "
      ]
     },
     "execution_count": 14,
     "metadata": {},
     "output_type": "execute_result"
    }
   ],
   "source": [
    "predicted_df = pd.DataFrame({\"video_id\": video_ids, \"true_caption\":true_captions, \"pred_captions\": pred_captions})\n",
    "reference_df = predicted_df.groupby('video_id')['true_caption'].apply(list).reset_index(name=\"reference_captions\")\n",
    "merged_df = pd.merge(predicted_df, reference_df, on=['video_id'])\n",
    "reference_captions = merged_df[\"reference_captions\"].tolist()\n",
    "merged_df.head()"
   ]
  },
  {
   "cell_type": "code",
   "execution_count": 15,
   "metadata": {},
   "outputs": [
    {
     "name": "stdout",
     "output_type": "stream",
     "text": [
      "250\n"
     ]
    },
    {
     "data": {
      "text/html": [
       "<div>\n",
       "<style scoped>\n",
       "    .dataframe tbody tr th:only-of-type {\n",
       "        vertical-align: middle;\n",
       "    }\n",
       "\n",
       "    .dataframe tbody tr th {\n",
       "        vertical-align: top;\n",
       "    }\n",
       "\n",
       "    .dataframe thead th {\n",
       "        text-align: right;\n",
       "    }\n",
       "</style>\n",
       "<table border=\"1\" class=\"dataframe\">\n",
       "  <thead>\n",
       "    <tr style=\"text-align: right;\">\n",
       "      <th></th>\n",
       "      <th>video_id</th>\n",
       "      <th>true_caption</th>\n",
       "      <th>pred_captions</th>\n",
       "      <th>reference_captions</th>\n",
       "    </tr>\n",
       "  </thead>\n",
       "  <tbody>\n",
       "    <tr>\n",
       "      <th>2</th>\n",
       "      <td>jmNrvlQ73pU</td>\n",
       "      <td>the burger is as a bond as kids relationship</td>\n",
       "      <td>the chocolate is as sweet as the relationship ...</td>\n",
       "      <td>[the burger is as comforting as relationship, ...</td>\n",
       "    </tr>\n",
       "    <tr>\n",
       "      <th>5</th>\n",
       "      <td>D93S3UVU8pk</td>\n",
       "      <td>the game is as enjoyable as the cartoon</td>\n",
       "      <td>the game is as intense as a battlefield.</td>\n",
       "      <td>[the game is as fun as the cartoon, the game i...</td>\n",
       "    </tr>\n",
       "    <tr>\n",
       "      <th>8</th>\n",
       "      <td>jcC3xM8Wa1w</td>\n",
       "      <td>the cookie cutters are as versatile as the art...</td>\n",
       "      <td>the chocolate is as delicious as the cookie.</td>\n",
       "      <td>[cookies are as delicious as the ways to eat t...</td>\n",
       "    </tr>\n",
       "    <tr>\n",
       "      <th>11</th>\n",
       "      <td>IQovoot_ZUM</td>\n",
       "      <td>a refreshing beverage is as unifying as indivi...</td>\n",
       "      <td>the drink is as cool as a robot.</td>\n",
       "      <td>[a refreshing beverage is as bonding as indivi...</td>\n",
       "    </tr>\n",
       "    <tr>\n",
       "      <th>14</th>\n",
       "      <td>TL4LEfRr1TI</td>\n",
       "      <td>the shoes are as exciting as a football game i...</td>\n",
       "      <td>the drink is as intense as a fight.</td>\n",
       "      <td>[shoes are as goal oriented as a ball moving t...</td>\n",
       "    </tr>\n",
       "  </tbody>\n",
       "</table>\n",
       "</div>"
      ],
      "text/plain": [
       "       video_id                                       true_caption  \\\n",
       "2   jmNrvlQ73pU       the burger is as a bond as kids relationship   \n",
       "5   D93S3UVU8pk            the game is as enjoyable as the cartoon   \n",
       "8   jcC3xM8Wa1w  the cookie cutters are as versatile as the art...   \n",
       "11  IQovoot_ZUM  a refreshing beverage is as unifying as indivi...   \n",
       "14  TL4LEfRr1TI  the shoes are as exciting as a football game i...   \n",
       "\n",
       "                                        pred_captions  \\\n",
       "2   the chocolate is as sweet as the relationship ...   \n",
       "5            the game is as intense as a battlefield.   \n",
       "8        the chocolate is as delicious as the cookie.   \n",
       "11                   the drink is as cool as a robot.   \n",
       "14                the drink is as intense as a fight.   \n",
       "\n",
       "                                   reference_captions  \n",
       "2   [the burger is as comforting as relationship, ...  \n",
       "5   [the game is as fun as the cartoon, the game i...  \n",
       "8   [cookies are as delicious as the ways to eat t...  \n",
       "11  [a refreshing beverage is as bonding as indivi...  \n",
       "14  [shoes are as goal oriented as a ball moving t...  "
      ]
     },
     "execution_count": 15,
     "metadata": {},
     "output_type": "execute_result"
    }
   ],
   "source": [
    "merged_df = merged_df.drop_duplicates([\"video_id\"], keep=\"last\")\n",
    "print(len(merged_df))\n",
    "merged_df.head()"
   ]
  },
  {
   "cell_type": "code",
   "execution_count": 16,
   "metadata": {},
   "outputs": [],
   "source": [
    "true_captions = merged_df[\"reference_captions\"].tolist()\n",
    "pred_captions = merged_df[\"pred_captions\"].tolist()\n",
    "video_ids = merged_df[\"video_id\"].tolist()"
   ]
  },
  {
   "cell_type": "code",
   "execution_count": 17,
   "metadata": {},
   "outputs": [],
   "source": [
    "ground_truth1 = [cap_list[0] for cap_list in true_captions]\n",
    "ground_truth2 = [cap_list[1] for cap_list in true_captions]\n",
    "ground_truth3 = [cap_list[2] for cap_list in true_captions]"
   ]
  },
  {
   "cell_type": "code",
   "execution_count": 18,
   "metadata": {},
   "outputs": [
    {
     "name": "stdout",
     "output_type": "stream",
     "text": [
      "250\n"
     ]
    },
    {
     "data": {
      "text/html": [
       "<div>\n",
       "<style scoped>\n",
       "    .dataframe tbody tr th:only-of-type {\n",
       "        vertical-align: middle;\n",
       "    }\n",
       "\n",
       "    .dataframe tbody tr th {\n",
       "        vertical-align: top;\n",
       "    }\n",
       "\n",
       "    .dataframe thead th {\n",
       "        text-align: right;\n",
       "    }\n",
       "</style>\n",
       "<table border=\"1\" class=\"dataframe\">\n",
       "  <thead>\n",
       "    <tr style=\"text-align: right;\">\n",
       "      <th></th>\n",
       "      <th>video_id</th>\n",
       "      <th>ground_truth1</th>\n",
       "      <th>ground_truth2</th>\n",
       "      <th>ground_truth3</th>\n",
       "      <th>pred_captions</th>\n",
       "    </tr>\n",
       "  </thead>\n",
       "  <tbody>\n",
       "    <tr>\n",
       "      <th>0</th>\n",
       "      <td>jmNrvlQ73pU</td>\n",
       "      <td>the burger is as comforting as relationship</td>\n",
       "      <td>a burger is as much a source of satisfaction a...</td>\n",
       "      <td>the burger is as a bond as kids relationship</td>\n",
       "      <td>the chocolate is as sweet as the relationship ...</td>\n",
       "    </tr>\n",
       "    <tr>\n",
       "      <th>1</th>\n",
       "      <td>D93S3UVU8pk</td>\n",
       "      <td>the game is as fun as the cartoon</td>\n",
       "      <td>the game is as interesting as a cartoon.</td>\n",
       "      <td>the game is as enjoyable as the cartoon</td>\n",
       "      <td>the game is as intense as a battlefield.</td>\n",
       "    </tr>\n",
       "    <tr>\n",
       "      <th>2</th>\n",
       "      <td>jcC3xM8Wa1w</td>\n",
       "      <td>cookies are as delicious as the ways to eat them</td>\n",
       "      <td>cookies are as delicious as their variety</td>\n",
       "      <td>the cookie cutters are as versatile as the art...</td>\n",
       "      <td>the chocolate is as delicious as the cookie.</td>\n",
       "    </tr>\n",
       "    <tr>\n",
       "      <th>3</th>\n",
       "      <td>IQovoot_ZUM</td>\n",
       "      <td>a refreshing beverage is as bonding as individ...</td>\n",
       "      <td>a cool drink is as connecting as people.</td>\n",
       "      <td>a refreshing beverage is as unifying as indivi...</td>\n",
       "      <td>the drink is as cool as a robot.</td>\n",
       "    </tr>\n",
       "    <tr>\n",
       "      <th>4</th>\n",
       "      <td>TL4LEfRr1TI</td>\n",
       "      <td>shoes are as goal oriented as a ball moving to...</td>\n",
       "      <td>shoes are as charged up as the football players</td>\n",
       "      <td>the shoes are as exciting as a football game i...</td>\n",
       "      <td>the drink is as intense as a fight.</td>\n",
       "    </tr>\n",
       "  </tbody>\n",
       "</table>\n",
       "</div>"
      ],
      "text/plain": [
       "      video_id                                      ground_truth1  \\\n",
       "0  jmNrvlQ73pU        the burger is as comforting as relationship   \n",
       "1  D93S3UVU8pk                  the game is as fun as the cartoon   \n",
       "2  jcC3xM8Wa1w   cookies are as delicious as the ways to eat them   \n",
       "3  IQovoot_ZUM  a refreshing beverage is as bonding as individ...   \n",
       "4  TL4LEfRr1TI  shoes are as goal oriented as a ball moving to...   \n",
       "\n",
       "                                       ground_truth2  \\\n",
       "0  a burger is as much a source of satisfaction a...   \n",
       "1           the game is as interesting as a cartoon.   \n",
       "2          cookies are as delicious as their variety   \n",
       "3           a cool drink is as connecting as people.   \n",
       "4    shoes are as charged up as the football players   \n",
       "\n",
       "                                       ground_truth3  \\\n",
       "0       the burger is as a bond as kids relationship   \n",
       "1            the game is as enjoyable as the cartoon   \n",
       "2  the cookie cutters are as versatile as the art...   \n",
       "3  a refreshing beverage is as unifying as indivi...   \n",
       "4  the shoes are as exciting as a football game i...   \n",
       "\n",
       "                                       pred_captions  \n",
       "0  the chocolate is as sweet as the relationship ...  \n",
       "1           the game is as intense as a battlefield.  \n",
       "2       the chocolate is as delicious as the cookie.  \n",
       "3                   the drink is as cool as a robot.  \n",
       "4                the drink is as intense as a fight.  "
      ]
     },
     "execution_count": 18,
     "metadata": {},
     "output_type": "execute_result"
    }
   ],
   "source": [
    "final_df = pd.DataFrame({\"video_id\": video_ids, \"ground_truth1\":ground_truth1, \"ground_truth2\":ground_truth2,\"ground_truth3\":ground_truth3,\"pred_captions\": pred_captions})\n",
    "print(len(final_df))\n",
    "final_df.head()"
   ]
  },
  {
   "cell_type": "code",
   "execution_count": 19,
   "metadata": {},
   "outputs": [],
   "source": [
    "final_df.to_csv(\"/research/video_metaphor/LLaVA/results/llava13-b/vmcd_ispy/24f_4parts/5_ep/answers_t_0_2_test.csv\", index=False)"
   ]
  },
  {
   "cell_type": "code",
   "execution_count": null,
   "metadata": {},
   "outputs": [],
   "source": []
  }
 ],
 "metadata": {
  "kernelspec": {
   "display_name": "llava",
   "language": "python",
   "name": "python3"
  },
  "language_info": {
   "codemirror_mode": {
    "name": "ipython",
    "version": 3
   },
   "file_extension": ".py",
   "mimetype": "text/x-python",
   "name": "python",
   "nbconvert_exporter": "python",
   "pygments_lexer": "ipython3",
   "version": "3.10.13"
  }
 },
 "nbformat": 4,
 "nbformat_minor": 2
}
